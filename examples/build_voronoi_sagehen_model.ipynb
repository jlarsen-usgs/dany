{
 "cells": [
  {
   "cell_type": "markdown",
   "id": "d29c010a-9f27-48bc-a70f-c05bbde9e1cc",
   "metadata": {},
   "source": [
    "# Build a model from scatch\n",
    "\n",
    "This notebook shows the process of going from GIS data to an operational PRMS/pywatershed model of the Sagehen Creek Watershed, near Truckee, CA. In this notebook, we use functionality from `D-Any`, `FloPy`, and `pyGSFLOW` to construct an operational model of the basin.\n",
    "\n",
    "This notebook does not cover in depth details of each of the functions that are used to construct the model. Instead it refers to other notebooks that cover the methods."
   ]
  },
  {
   "cell_type": "code",
   "execution_count": 8,
   "id": "869a52dc-d58a-4f4f-8192-346531bd18d6",
   "metadata": {
    "execution": {
     "iopub.execute_input": "2024-10-02T20:53:27.897782Z",
     "iopub.status.busy": "2024-10-02T20:53:27.896786Z",
     "iopub.status.idle": "2024-10-02T20:53:27.901862Z",
     "shell.execute_reply": "2024-10-02T20:53:27.901862Z",
     "shell.execute_reply.started": "2024-10-02T20:53:27.897782Z"
    }
   },
   "outputs": [],
   "source": [
    "import os\n",
    "import flopy\n",
    "import numpy as np\n",
    "import pandas as pd\n",
    "import geopandas as gpd\n",
    "from shapely.geometry import LineString\n",
    "\n",
    "from pathlib import Path\n",
    "from dany import fill_nan_values, fill_sinks, FlowDirections, PrmsStreams\n",
    "from flopy.utils.voronoi import VoronoiGrid\n",
    "from flopy.utils.triangle import Triangle\n",
    "from flopy.plot import styles\n",
    "\n",
    "from dataretrieval import nwis, nldi\n",
    "from pyproj import Transformer\n",
    "\n",
    "import warnings\n",
    "from shapely.errors import ShapelyDeprecationWarning\n",
    "warnings.filterwarnings(\"ignore\", category=ShapelyDeprecationWarning)"
   ]
  },
  {
   "cell_type": "markdown",
   "id": "5e4995b0-222e-4287-959d-07079851dc25",
   "metadata": {},
   "source": [
    "Define paths for input data and model outputs "
   ]
  },
  {
   "cell_type": "code",
   "execution_count": 4,
   "id": "40f3622a-e849-4e67-9c3f-a7bc1a94fdf2",
   "metadata": {
    "execution": {
     "iopub.execute_input": "2024-10-02T19:56:15.084270Z",
     "iopub.status.busy": "2024-10-02T19:56:15.084270Z",
     "iopub.status.idle": "2024-10-02T19:56:15.096179Z",
     "shell.execute_reply": "2024-10-02T19:56:15.096179Z",
     "shell.execute_reply.started": "2024-10-02T19:56:15.084270Z"
    }
   },
   "outputs": [],
   "source": [
    "data_ws = Path(\"../data\")\n",
    "output_ws = data_ws / \"sagehen_voronoi_notebook\"\n",
    "dem_file = data_ws / \"dem.img\"\n",
    "geospatial_ws = data_ws / \"geospatial\"\n",
    "\n",
    "# soil rasters\n",
    "awc = geospatial_ws / \"awc.img\"\n",
    "ksat = geospatial_ws / \"ksat.img\"\n",
    "clay = geospatial_ws / \"clay.img\"\n",
    "sand = geospatial_ws / \"sand.img\"\n",
    "\n",
    "# land cover rasters\n",
    "nlcd2011 = geospatial_ws / \"nlcd2011_imp_utm.img\"\n",
    "lf_cover = geospatial_ws / \"us_140evc_utm.img\"\n",
    "lf_vegtype = geospatial_ws / \"us_140evt_utm.img\"\n",
    "\n",
    "# climate rasters\n",
    "ppt_rstrs = [geospatial_ws / f\"climate/ppt_utm/PRISM_ppt_30yr_normal_800mM2_{i :02d}_bil.img\" for i in range(1, 13)]\n",
    "tmax_rstrs = [geospatial_ws / f\"climate/tmax_utm/PRISM_tmax_30yr_normal_800mM2_{i :02d}_bil.img\" for i in range(1, 13)]\n",
    "tmin_rstrs = [geospatial_ws / f\"climate/tmin_utm/PRISM_tmin_30yr_normal_800mM2_{i :02d}_bil.img\" for i in range(1, 13)]"
   ]
  },
  {
   "cell_type": "markdown",
   "id": "d564af73-ed89-4e49-9502-0f6996d1aeaf",
   "metadata": {},
   "source": [
    "Load the Digital Elevation Model (DEM) raster"
   ]
  },
  {
   "cell_type": "code",
   "execution_count": 6,
   "id": "8a954e19-40e2-4946-9947-55705e4df921",
   "metadata": {
    "execution": {
     "iopub.execute_input": "2024-10-02T20:53:20.073257Z",
     "iopub.status.busy": "2024-10-02T20:53:20.073257Z",
     "iopub.status.idle": "2024-10-02T20:53:21.388580Z",
     "shell.execute_reply": "2024-10-02T20:53:21.387956Z",
     "shell.execute_reply.started": "2024-10-02T20:53:20.073257Z"
    }
   },
   "outputs": [],
   "source": [
    "rstr = flopy.utils.Raster.load(dem_file)"
   ]
  },
  {
   "cell_type": "markdown",
   "id": "9d2117d9-fdbc-4968-b249-c2c76f9778d5",
   "metadata": {},
   "source": [
    "Create a bounding box of decimal latitude and longitude for the raster."
   ]
  },
  {
   "cell_type": "code",
   "execution_count": 11,
   "id": "119e3a84-ce4b-4c04-84a4-269cc5d66b2c",
   "metadata": {
    "execution": {
     "iopub.execute_input": "2024-10-02T20:55:09.945170Z",
     "iopub.status.busy": "2024-10-02T20:55:09.945170Z",
     "iopub.status.idle": "2024-10-02T20:55:09.979784Z",
     "shell.execute_reply": "2024-10-02T20:55:09.978792Z",
     "shell.execute_reply.started": "2024-10-02T20:55:09.945170Z"
    }
   },
   "outputs": [],
   "source": [
    "epsg_utm = rstr.crs.to_epsg()\n",
    "epsg_wgs84 = 4326  # decimal lat lon\n",
    "crs_utm = f\"EPSG:{epsg_utm}\"\n",
    "crs_wgs84 = f\"EPSG:{epsg_wgs84}\"\n",
    "\n",
    "transformer = Transformer.from_crs(crs_utm, crs_wgs84, always_xy=True)"
   ]
  },
  {
   "cell_type": "markdown",
   "id": "ec22d6b7-e9c1-441e-ace7-c6555297931f",
   "metadata": {},
   "source": [
    "get decimal latitude longitude boundaries for the area of interest"
   ]
  },
  {
   "cell_type": "code",
   "execution_count": 12,
   "id": "59b0a144-6174-47c5-8d12-c7618eeec681",
   "metadata": {
    "execution": {
     "iopub.execute_input": "2024-10-02T20:55:10.520986Z",
     "iopub.status.busy": "2024-10-02T20:55:10.520986Z",
     "iopub.status.idle": "2024-10-02T20:55:10.524669Z",
     "shell.execute_reply": "2024-10-02T20:55:10.524669Z",
     "shell.execute_reply.started": "2024-10-02T20:55:10.520986Z"
    }
   },
   "outputs": [],
   "source": [
    "xmin, xmax, ymin, ymax = rstr.bounds\n",
    "xmin, ymin = transformer.transform(xmin, ymin)\n",
    "xmax, ymax = transformer.transform(xmax, ymax)\n",
    "wgs_bounds = [xmin, ymin, xmax, ymax]"
   ]
  },
  {
   "cell_type": "markdown",
   "id": "d8b45c66-6355-440c-a86f-6c691cdf176b",
   "metadata": {},
   "source": [
    "Get gage information, Basin boundary, and NHDPlus stream channel for the basin using `dataretrieval`. This infomation will be used for constructing the Voronoi model grid with `FloPy`"
   ]
  },
  {
   "cell_type": "code",
   "execution_count": 14,
   "id": "9adf362c-01aa-4004-8f4c-43cc5bbdc1e1",
   "metadata": {
    "execution": {
     "iopub.execute_input": "2024-10-02T20:56:19.421288Z",
     "iopub.status.busy": "2024-10-02T20:56:19.420291Z",
     "iopub.status.idle": "2024-10-02T20:56:19.867270Z",
     "shell.execute_reply": "2024-10-02T20:56:19.867270Z",
     "shell.execute_reply.started": "2024-10-02T20:56:19.421288Z"
    }
   },
   "outputs": [
    {
     "name": "stderr",
     "output_type": "stream",
     "text": [
      "C:\\Users\\jlarsen\\Documents\\anaconda3\\envs\\pyclass\\Lib\\site-packages\\geopandas\\geodataframe.py:1645: DeprecationWarning: Passing a SingleBlockManager to Series is deprecated and will raise in a future version. Use public APIs instead.\n",
      "  srs = pd.Series(*args, **kwargs)\n",
      "C:\\Users\\jlarsen\\Documents\\anaconda3\\envs\\pyclass\\Lib\\site-packages\\geopandas\\geodataframe.py:1645: DeprecationWarning: Passing a SingleBlockManager to Series is deprecated and will raise in a future version. Use public APIs instead.\n",
      "  srs = pd.Series(*args, **kwargs)\n",
      "C:\\Users\\jlarsen\\Documents\\anaconda3\\envs\\pyclass\\Lib\\site-packages\\pandas\\core\\frame.py:706: DeprecationWarning: Passing a BlockManager to GeoDataFrame is deprecated and will raise in a future version. Use public APIs instead.\n",
      "  warnings.warn(\n",
      "C:\\Users\\jlarsen\\Documents\\anaconda3\\envs\\pyclass\\Lib\\site-packages\\geopandas\\geodataframe.py:1645: DeprecationWarning: Passing a SingleBlockManager to Series is deprecated and will raise in a future version. Use public APIs instead.\n",
      "  srs = pd.Series(*args, **kwargs)\n",
      "C:\\Users\\jlarsen\\Documents\\anaconda3\\envs\\pyclass\\Lib\\site-packages\\geopandas\\geodataframe.py:1645: DeprecationWarning: Passing a SingleBlockManager to Series is deprecated and will raise in a future version. Use public APIs instead.\n",
      "  srs = pd.Series(*args, **kwargs)\n",
      "C:\\Users\\jlarsen\\Documents\\anaconda3\\envs\\pyclass\\Lib\\site-packages\\pandas\\core\\frame.py:706: DeprecationWarning: Passing a BlockManager to GeoDataFrame is deprecated and will raise in a future version. Use public APIs instead.\n",
      "  warnings.warn(\n",
      "C:\\Users\\jlarsen\\Documents\\anaconda3\\envs\\pyclass\\Lib\\site-packages\\pandas\\core\\frame.py:706: DeprecationWarning: Passing a BlockManager to GeoDataFrame is deprecated and will raise in a future version. Use public APIs instead.\n",
      "  warnings.warn(\n",
      "C:\\Users\\jlarsen\\Documents\\anaconda3\\envs\\pyclass\\Lib\\site-packages\\geopandas\\geodataframe.py:1645: DeprecationWarning: Passing a SingleBlockManager to Series is deprecated and will raise in a future version. Use public APIs instead.\n",
      "  srs = pd.Series(*args, **kwargs)\n",
      "C:\\Users\\jlarsen\\Documents\\anaconda3\\envs\\pyclass\\Lib\\site-packages\\geopandas\\geodataframe.py:1645: DeprecationWarning: Passing a SingleBlockManager to Series is deprecated and will raise in a future version. Use public APIs instead.\n",
      "  srs = pd.Series(*args, **kwargs)\n",
      "C:\\Users\\jlarsen\\Documents\\anaconda3\\envs\\pyclass\\Lib\\site-packages\\pandas\\core\\frame.py:706: DeprecationWarning: Passing a BlockManager to GeoDataFrame is deprecated and will raise in a future version. Use public APIs instead.\n",
      "  warnings.warn(\n",
      "C:\\Users\\jlarsen\\Documents\\anaconda3\\envs\\pyclass\\Lib\\site-packages\\pandas\\core\\frame.py:706: DeprecationWarning: Passing a BlockManager to GeoDataFrame is deprecated and will raise in a future version. Use public APIs instead.\n",
      "  warnings.warn(\n",
      "C:\\Users\\jlarsen\\Documents\\anaconda3\\envs\\pyclass\\Lib\\site-packages\\geopandas\\geodataframe.py:1645: DeprecationWarning: Passing a SingleBlockManager to Series is deprecated and will raise in a future version. Use public APIs instead.\n",
      "  srs = pd.Series(*args, **kwargs)\n",
      "C:\\Users\\jlarsen\\Documents\\anaconda3\\envs\\pyclass\\Lib\\site-packages\\geopandas\\geodataframe.py:1645: DeprecationWarning: Passing a SingleBlockManager to Series is deprecated and will raise in a future version. Use public APIs instead.\n",
      "  srs = pd.Series(*args, **kwargs)\n"
     ]
    },
    {
     "data": {
      "text/html": [
       "<div>\n",
       "<style scoped>\n",
       "    .dataframe tbody tr th:only-of-type {\n",
       "        vertical-align: middle;\n",
       "    }\n",
       "\n",
       "    .dataframe tbody tr th {\n",
       "        vertical-align: top;\n",
       "    }\n",
       "\n",
       "    .dataframe thead th {\n",
       "        text-align: right;\n",
       "    }\n",
       "</style>\n",
       "<table border=\"1\" class=\"dataframe\">\n",
       "  <thead>\n",
       "    <tr style=\"text-align: right;\">\n",
       "      <th></th>\n",
       "      <th>agency_cd</th>\n",
       "      <th>site_no</th>\n",
       "      <th>station_nm</th>\n",
       "      <th>site_tp_cd</th>\n",
       "      <th>lat_va</th>\n",
       "      <th>long_va</th>\n",
       "      <th>dec_lat_va</th>\n",
       "      <th>dec_long_va</th>\n",
       "      <th>coord_meth_cd</th>\n",
       "      <th>coord_acy_cd</th>\n",
       "      <th>...</th>\n",
       "      <th>reliability_cd</th>\n",
       "      <th>gw_file_cd</th>\n",
       "      <th>nat_aqfr_cd</th>\n",
       "      <th>aqfr_cd</th>\n",
       "      <th>aqfr_type_cd</th>\n",
       "      <th>well_depth_va</th>\n",
       "      <th>hole_depth_va</th>\n",
       "      <th>depth_src_cd</th>\n",
       "      <th>project_no</th>\n",
       "      <th>geometry</th>\n",
       "    </tr>\n",
       "  </thead>\n",
       "  <tbody>\n",
       "    <tr>\n",
       "      <th>2</th>\n",
       "      <td>USGS</td>\n",
       "      <td>10343500</td>\n",
       "      <td>SAGEHEN C NR TRUCKEE CA</td>\n",
       "      <td>ST</td>\n",
       "      <td>392554.0</td>\n",
       "      <td>1201413.0</td>\n",
       "      <td>39.431572</td>\n",
       "      <td>-120.237979</td>\n",
       "      <td>M</td>\n",
       "      <td>F</td>\n",
       "      <td>...</td>\n",
       "      <td>NaN</td>\n",
       "      <td>NNNNNNNN</td>\n",
       "      <td>NaN</td>\n",
       "      <td>NaN</td>\n",
       "      <td>NaN</td>\n",
       "      <td>NaN</td>\n",
       "      <td>NaN</td>\n",
       "      <td>NaN</td>\n",
       "      <td>NaN</td>\n",
       "      <td>POINT (221299.997 4369675.311)</td>\n",
       "    </tr>\n",
       "  </tbody>\n",
       "</table>\n",
       "<p>1 rows × 43 columns</p>\n",
       "</div>"
      ],
      "text/plain": [
       "  agency_cd   site_no               station_nm site_tp_cd    lat_va  \\\n",
       "2      USGS  10343500  SAGEHEN C NR TRUCKEE CA         ST  392554.0   \n",
       "\n",
       "     long_va  dec_lat_va  dec_long_va coord_meth_cd coord_acy_cd  ...  \\\n",
       "2  1201413.0   39.431572  -120.237979             M            F  ...   \n",
       "\n",
       "  reliability_cd gw_file_cd  nat_aqfr_cd  aqfr_cd  aqfr_type_cd well_depth_va  \\\n",
       "2            NaN   NNNNNNNN          NaN      NaN           NaN           NaN   \n",
       "\n",
       "  hole_depth_va depth_src_cd  project_no                        geometry  \n",
       "2           NaN          NaN         NaN  POINT (221299.997 4369675.311)  \n",
       "\n",
       "[1 rows x 43 columns]"
      ]
     },
     "execution_count": 14,
     "metadata": {},
     "output_type": "execute_result"
    }
   ],
   "source": [
    "info, meta = nwis.get_info(bBox=[f\"{i :.2f}\" for i in wgs_bounds])\n",
    "info.to_crs(epsg=epsg_utm, inplace=True)\n",
    "sitedf = info[info.site_no == \"10343500\"]\n",
    "sitedf"
   ]
  },
  {
   "cell_type": "code",
   "execution_count": null,
   "id": "e4123978-0b8e-4831-a598-c202909184b2",
   "metadata": {},
   "outputs": [],
   "source": []
  }
 ],
 "metadata": {
  "kernelspec": {
   "display_name": "Python 3 (ipykernel)",
   "language": "python",
   "name": "python3"
  },
  "language_info": {
   "codemirror_mode": {
    "name": "ipython",
    "version": 3
   },
   "file_extension": ".py",
   "mimetype": "text/x-python",
   "name": "python",
   "nbconvert_exporter": "python",
   "pygments_lexer": "ipython3",
   "version": "3.11.7"
  }
 },
 "nbformat": 4,
 "nbformat_minor": 5
}
